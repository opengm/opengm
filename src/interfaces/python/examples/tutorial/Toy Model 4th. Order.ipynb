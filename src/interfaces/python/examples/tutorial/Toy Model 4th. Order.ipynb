{
 "metadata": {
  "name": ""
 },
 "nbformat": 3,
 "nbformat_minor": 0,
 "worksheets": [
  {
   "cells": [
    {
     "cell_type": "code",
     "collapsed": false,
     "input": [
      "import opengm\n",
      "import numpy\n",
      "\n",
      "shape = (10,10)\n",
      "numVar = shape[0]*shape[1]\n",
      "\n",
      "data = numpy.random.rand(*shape)\n",
      "data = numpy.round(data,1) \n",
      "print data,\"\\n\"\n",
      "labelsA = (data>0.5).astype(numpy.uint32)\n",
      "print labelsA"
     ],
     "language": "python",
     "metadata": {},
     "outputs": [
      {
       "output_type": "stream",
       "stream": "stdout",
       "text": [
        "[[ 0.9  0.1  0.5  0.1  0.2  0.4  0.1  0.2  0.4  0.3]\n",
        " [ 0.7  0.5  1.   0.3  0.8  0.8  0.8  0.9  1.   0.2]\n",
        " [ 0.2  0.7  0.7  0.3  0.7  0.1  0.4  0.6  0.1  0.3]\n",
        " [ 0.1  1.   1.   0.5  0.2  0.6  0.8  0.6  1.   0.6]\n",
        " [ 0.4  0.5  0.6  0.2  0.4  0.   0.5  0.3  0.2  0.5]\n",
        " [ 0.4  0.7  0.4  0.7  0.8  0.5  0.5  0.8  1.   0.2]\n",
        " [ 0.1  0.9  0.8  0.5  0.5  0.1  1.   0.1  0.5  0.3]\n",
        " [ 0.5  1.   1.   0.6  0.6  0.5  0.2  0.5  0.9  0. ]\n",
        " [ 1.   0.3  0.2  0.3  0.4  0.3  0.2  0.5  0.8  0.8]\n",
        " [ 0.6  1.   0.9  0.2  0.5  0.1  0.9  0.   0.7  0.3]] \n",
        "\n",
        "[[1 0 0 0 0 0 0 0 0 0]\n",
        " [1 0 1 0 1 1 1 1 1 0]\n",
        " [0 1 1 0 1 0 0 1 0 0]\n",
        " [0 1 1 0 0 1 1 1 1 1]\n",
        " [0 0 1 0 0 0 0 0 0 0]\n",
        " [0 1 0 1 1 0 0 1 1 0]\n",
        " [0 1 1 0 0 0 1 0 0 0]\n",
        " [0 1 1 1 1 0 0 0 1 0]\n",
        " [1 0 0 0 0 0 0 0 1 1]\n",
        " [1 1 1 0 0 0 1 0 1 0]]\n"
       ]
      }
     ],
     "prompt_number": 2
    },
    {
     "cell_type": "code",
     "collapsed": false,
     "input": [
      "beta = 0.3\n",
      "gm = opengm.gm( [2]*numVar )"
     ],
     "language": "python",
     "metadata": {},
     "outputs": [],
     "prompt_number": 3
    },
    {
     "cell_type": "code",
     "collapsed": false,
     "input": [
      "# add unaries\n",
      "unaries = numpy.ones(shape+(2,))\n",
      "unaries[:,:,0]=data\n",
      "unaries[:,:,1]=1.0-data\n",
      "\n",
      "unaryFunctionIds = gm.addFunctions(unaries.reshape(-1,2))\n",
      "gm.addFactors(unaryFunctionIds,numpy.arange(numVar))"
     ],
     "language": "python",
     "metadata": {},
     "outputs": [
      {
       "metadata": {},
       "output_type": "pyout",
       "prompt_number": 5,
       "text": [
        "199L"
       ]
      }
     ],
     "prompt_number": 5
    },
    {
     "cell_type": "code",
     "collapsed": false,
     "input": [
      "pottsFunction = opengm.pottsFunction([2,2],0.0,beta)\n",
      "pottsFunctionId = gm.addFunction(pottsFunction)\n",
      "\n",
      "for x in range(shape[0]):\n",
      "   for y in range(shape[0]): \n",
      "        \n",
      "        if x+1 < shape[1]:\n",
      "            vi0 = y +x*shape[1]\n",
      "            vi1 = y +(x+1)*shape[1]\n",
      "            gm.addFactor(pottsFunctionId,[vi0,vi1])\n",
      "            \n",
      "        if x+1 < shape[1]:\n",
      "            vi0 = y +x*shape[1]\n",
      "            vi1 = y+1 + x*shape[1]\n",
      "            gm.addFactor(pottsFunctionId,[vi0,vi1])\n",
      "            \n",
      "\n",
      "\n",
      "block4Function = numpy.zeros([2,2,2,2]) \n",
      "block4Function[0,0,0,0]=2.0\n",
      "#block4Function[1,1,1,1]=10.0\n",
      "block4FunctionId = gm.addFunction(block4Function)\n",
      "\n",
      "for x in range(shape[0]):\n",
      "   for y in range(shape[1]):\n",
      "        if x+1 < shape[0] and y+1 < shape[1]:\n",
      "            vi0 = y + x*shape[1]\n",
      "            vi1 = y+1 + x*shape[1]\n",
      "            vi2 = y + (x+1)*shape[1]\n",
      "            vi3 = y+1 + (x+1)*shape[1]\n",
      "            vis = [vi0,vi1,vi2,vi3]\n",
      "            #gm.addFactor(block4FunctionId,vis)\n",
      "\n",
      "            "
     ],
     "language": "python",
     "metadata": {},
     "outputs": [],
     "prompt_number": 6
    },
    {
     "cell_type": "code",
     "collapsed": false,
     "input": [
      "Inf  = opengm.inference.BeliefPropagation\n",
      "parameter = opengm.InfParam(steps=1000,damping=0.9,convergenceBound=0.001)\n",
      "inf2 = Inf(gm,parameter=parameter)\n",
      "\n",
      "inf2.infer()\n",
      "arg=inf2.arg()\n",
      "labelsB = arg.reshape(shape)\n",
      "print labelsA,\"\\n\"\n",
      "print labelsB,\"\\n\""
     ],
     "language": "python",
     "metadata": {},
     "outputs": [
      {
       "output_type": "stream",
       "stream": "stdout",
       "text": [
        "[[1 0 0 0 0 0 0 0 0 0]\n",
        " [1 0 1 0 1 1 1 1 1 0]\n",
        " [0 1 1 0 1 0 0 1 0 0]\n",
        " [0 1 1 0 0 1 1 1 1 1]\n",
        " [0 0 1 0 0 0 0 0 0 0]\n",
        " [0 1 0 1 1 0 0 1 1 0]\n",
        " [0 1 1 0 0 0 1 0 0 0]\n",
        " [0 1 1 1 1 0 0 0 1 0]\n",
        " [1 0 0 0 0 0 0 0 1 1]\n",
        " [1 1 1 0 0 0 1 0 1 0]] \n",
        "\n",
        "[[1 0 0 0 0 0 0 0 0 0]\n",
        " [1 1 1 0 1 1 1 1 1 0]\n",
        " [0 1 1 0 1 0 1 1 0 0]\n",
        " [0 1 1 0 0 0 1 1 1 0]\n",
        " [0 1 1 0 0 0 1 0 0 0]\n",
        " [0 1 1 1 1 1 1 1 1 0]\n",
        " [0 1 1 1 1 0 1 0 1 0]\n",
        " [1 1 1 1 1 0 0 0 1 0]\n",
        " [1 0 0 0 0 0 0 0 1 1]\n",
        " [1 1 1 0 0 0 1 0 1 0]] \n",
        "\n"
       ]
      }
     ],
     "prompt_number": 7
    }
   ],
   "metadata": {}
  }
 ]
}