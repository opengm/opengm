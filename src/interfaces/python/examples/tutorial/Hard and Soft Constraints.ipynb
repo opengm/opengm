{
 "metadata": {
  "name": ""
 },
 "nbformat": 3,
 "nbformat_minor": 0,
 "worksheets": [
  {
   "cells": [
    {
     "cell_type": "heading",
     "level": 1,
     "metadata": {},
     "source": [
      "Hungarian Algorithm"
     ]
    },
    {
     "cell_type": "code",
     "collapsed": false,
     "input": [
      "import opengm\n",
      "import numpy\n",
      "\n",
      "\n",
      "numObjects = 4\n",
      "costs = numpy.random.rand(numObjects,numObjects)\n",
      "print costs"
     ],
     "language": "python",
     "metadata": {},
     "outputs": [
      {
       "output_type": "stream",
       "stream": "stdout",
       "text": [
        "[[ 0.28239879  0.26447532  0.24284484  0.66368517]\n",
        " [ 0.49920622  0.16588125  0.49527155  0.22744997]\n",
        " [ 0.19698773  0.35439322  0.0827846   0.04164338]\n",
        " [ 0.61382719  0.37826025  0.13805748  0.95151257]]\n"
       ]
      }
     ],
     "prompt_number": 2
    },
    {
     "cell_type": "heading",
     "level": 2,
     "metadata": {},
     "source": [
      "Soft Constraint GM"
     ]
    },
    {
     "cell_type": "code",
     "collapsed": false,
     "input": [
      "gm = opengm.gm([numObjects]*numObjects)\n",
      "\n",
      "unaryIds = gm.addFunctions(costs)\n",
      "gm.addFactors(unaryIds,numpy.arange(numObjects))\n",
      "\n",
      "f1To1=opengm.pottsFunction([numObjects,numObjects],10000.0, 0.0)\n",
      "f1To1Id=gm.addFunction(f1To1)\n",
      "\n",
      "for x0 in range(numObjects):\n",
      "    for x1 in range(x0+1,numObjects):\n",
      "        gm.addFactor(f1To1Id,[x0,x1])"
     ],
     "language": "python",
     "metadata": {},
     "outputs": [],
     "prompt_number": 4
    },
    {
     "cell_type": "heading",
     "level": 3,
     "metadata": {},
     "source": [
      "Inference with Lazy Flipper"
     ]
    },
    {
     "cell_type": "code",
     "collapsed": false,
     "input": [
      "Inf = opengm.inference.LazyFlipper\n",
      "param = opengm.InfParam(maxSubgraphSize=1)\n",
      "inf = Inf(gm=gm,parameter=param)\n",
      "inf.infer()\n",
      "arg = inf.arg()\n",
      "print arg, gm.evaluate(arg)\n",
      "print len(numpy.unique(arg))"
     ],
     "language": "python",
     "metadata": {},
     "outputs": [
      {
       "output_type": "stream",
       "stream": "stdout",
       "text": [
        "[2 1 3 0] 1.0641966675\n",
        "4\n"
       ]
      }
     ],
     "prompt_number": 8
    },
    {
     "cell_type": "code",
     "collapsed": false,
     "input": [
      "Inf = opengm.inference.LazyFlipper\n",
      "param = opengm.InfParam(maxSubgraphSize=2)\n",
      "inf = Inf(gm=gm,parameter=param)\n",
      "# use warm start\n",
      "inf.setStartingPoint(arg)\n",
      "inf.infer()\n",
      "arg = inf.arg()\n",
      "print arg, gm.evaluate(arg)\n",
      "print len(numpy.unique(arg))"
     ],
     "language": "python",
     "metadata": {},
     "outputs": [
      {
       "output_type": "stream",
       "stream": "stdout",
       "text": [
        "[0 1 3 2] 0.627980907228\n",
        "4\n"
       ]
      }
     ],
     "prompt_number": 9
    },
    {
     "cell_type": "code",
     "collapsed": false,
     "input": [
      "Inf = opengm.inference.LazyFlipper\n",
      "param = opengm.InfParam(maxSubgraphSize=3)\n",
      "inf = Inf(gm=gm,parameter=param)\n",
      "inf.infer()\n",
      "# use warm start\n",
      "inf.setStartingPoint(arg)\n",
      "arg = inf.arg()\n",
      "print arg, gm.evaluate(arg)\n",
      "print len(numpy.unique(arg))"
     ],
     "language": "python",
     "metadata": {},
     "outputs": [
      {
       "output_type": "stream",
       "stream": "stdout",
       "text": [
        "[0 1 3 2] 0.627980907228\n",
        "4\n"
       ]
      }
     ],
     "prompt_number": 10
    },
    {
     "cell_type": "heading",
     "level": 2,
     "metadata": {},
     "source": [
      "Hard Constraint GM"
     ]
    },
    {
     "cell_type": "code",
     "collapsed": false,
     "input": [
      "gmB = opengm.gm([numObjects]*numObjects)\n",
      "\n",
      "unaryIds = gmB.addFunctions(costs)\n",
      "gmB.addFactors(unaryIds,numpy.arange(numObjects))"
     ],
     "language": "python",
     "metadata": {},
     "outputs": [
      {
       "metadata": {},
       "output_type": "pyout",
       "prompt_number": 11,
       "text": [
        "3L"
       ]
      }
     ],
     "prompt_number": 11
    },
    {
     "cell_type": "heading",
     "level": 3,
     "metadata": {},
     "source": [
      "Inference with LpCplex"
     ]
    },
    {
     "cell_type": "code",
     "collapsed": false,
     "input": [
      "cplexParam = opengm.InfParam(integerConstraint=True)\n",
      "lpCplex = opengm.inference.LpCplex(gm=gm,parameter=cplexParam)\n",
      "\n",
      "\n",
      "for x0 in range(numObjects):\n",
      "    for x1 in range(x0+1,numObjects):\n",
      "        \n",
      "        for label in range(numObjects):\n",
      "            lpVarx0  = lpCplex.lpNodeVariableIndex(x0,label)\n",
      "            lpVarx1  = lpCplex.lpNodeVariableIndex(x1,label)\n",
      "            constraintVars  = [lpVarx0,lpVarx1]\n",
      "            constraintCoeff = [1.0,1.0]\n",
      "            lowerBound = 0.0\n",
      "            upperBound = 1.0\n",
      "            lpCplex.addConstraint(constraintVars,constraintCoeff,lowerBound,upperBound)\n",
      "            \n",
      "            \n",
      "lpCplex.infer()\n",
      "arg = lpCplex.arg()\n",
      "print arg, gm.evaluate(arg)\n",
      "print len(numpy.unique(arg))"
     ],
     "language": "python",
     "metadata": {},
     "outputs": [
      {
       "ename": "AttributeError",
       "evalue": "'module' object has no attribute 'LpCplex'",
       "output_type": "pyerr",
       "traceback": [
        "\u001b[0;31m---------------------------------------------------------------------------\u001b[0m\n\u001b[0;31mAttributeError\u001b[0m                            Traceback (most recent call last)",
        "\u001b[0;32m<ipython-input-12-6c150b576b9d>\u001b[0m in \u001b[0;36m<module>\u001b[0;34m()\u001b[0m\n\u001b[1;32m      1\u001b[0m \u001b[0mcplexParam\u001b[0m \u001b[0;34m=\u001b[0m \u001b[0mopengm\u001b[0m\u001b[0;34m.\u001b[0m\u001b[0mInfParam\u001b[0m\u001b[0;34m(\u001b[0m\u001b[0mintegerConstraint\u001b[0m\u001b[0;34m=\u001b[0m\u001b[0mTrue\u001b[0m\u001b[0;34m)\u001b[0m\u001b[0;34m\u001b[0m\u001b[0m\n\u001b[0;32m----> 2\u001b[0;31m \u001b[0mlpCplex\u001b[0m \u001b[0;34m=\u001b[0m \u001b[0mopengm\u001b[0m\u001b[0;34m.\u001b[0m\u001b[0minference\u001b[0m\u001b[0;34m.\u001b[0m\u001b[0mLpCplex\u001b[0m\u001b[0;34m(\u001b[0m\u001b[0mgm\u001b[0m\u001b[0;34m=\u001b[0m\u001b[0mgm\u001b[0m\u001b[0;34m,\u001b[0m\u001b[0mparameter\u001b[0m\u001b[0;34m=\u001b[0m\u001b[0mcplexParam\u001b[0m\u001b[0;34m)\u001b[0m\u001b[0;34m\u001b[0m\u001b[0m\n\u001b[0m\u001b[1;32m      3\u001b[0m \u001b[0;34m\u001b[0m\u001b[0m\n\u001b[1;32m      4\u001b[0m \u001b[0;34m\u001b[0m\u001b[0m\n\u001b[1;32m      5\u001b[0m \u001b[0;32mfor\u001b[0m \u001b[0mx0\u001b[0m \u001b[0;32min\u001b[0m \u001b[0mrange\u001b[0m\u001b[0;34m(\u001b[0m\u001b[0mnumObjects\u001b[0m\u001b[0;34m)\u001b[0m\u001b[0;34m:\u001b[0m\u001b[0;34m\u001b[0m\u001b[0m\n",
        "\u001b[0;31mAttributeError\u001b[0m: 'module' object has no attribute 'LpCplex'"
       ]
      }
     ],
     "prompt_number": 12
    }
   ],
   "metadata": {}
  }
 ]
}